{
  "cells": [
    {
      "cell_type": "markdown",
      "metadata": {
        "id": "t1aNF8aGWoq5"
      },
      "source": [
        "**Anggota Kelompok:**\n",
        "*   Gaizkia Adeline Atmaka - 2501972493\n",
        "*   Joshua Evans Setiyawan - 2501972354\n",
        "*   Shelly Alfianda - 2501972625"
      ]
    },
    {
      "cell_type": "markdown",
      "metadata": {
        "id": "plxtEJ9sXeZv"
      },
      "source": [
        "Link Dataset : https://www.kaggle.com/datasets/rikdifos/credit-card-approval-prediction?select=application_record.csv"
      ]
    },
    {
      "cell_type": "code",
      "execution_count": null,
      "metadata": {
        "id": "h4hYPoHoWoDN"
      },
      "outputs": [],
      "source": [
        "import numpy as np\n",
        "import pandas as pd\n",
        "import matplotlib.pyplot as plt\n",
        "import seaborn as sns\n",
        "# from google.colab import files\n",
        "# import io"
      ]
    },
    {
      "cell_type": "code",
      "execution_count": null,
      "metadata": {
        "id": "wigcbE5wgGk8"
      },
      "outputs": [],
      "source": [
        "df_app= pd.read_csv(\"./application_record.csv\")\n",
        "df_credit= pd.read_csv(\"./credit_record.csv\")"
      ]
    },
    {
      "cell_type": "code",
      "execution_count": null,
      "metadata": {
        "colab": {
          "base_uri": "https://localhost:8080/",
          "height": 322
        },
        "id": "isIRlSZ1Wn8q",
        "outputId": "9c72a55e-332f-41db-a0f0-bd1dac2430c2"
      },
      "outputs": [
        {
          "data": {
            "text/html": [
              "<div>\n",
              "<style scoped>\n",
              "    .dataframe tbody tr th:only-of-type {\n",
              "        vertical-align: middle;\n",
              "    }\n",
              "\n",
              "    .dataframe tbody tr th {\n",
              "        vertical-align: top;\n",
              "    }\n",
              "\n",
              "    .dataframe thead th {\n",
              "        text-align: right;\n",
              "    }\n",
              "</style>\n",
              "<table border=\"1\" class=\"dataframe\">\n",
              "  <thead>\n",
              "    <tr style=\"text-align: right;\">\n",
              "      <th></th>\n",
              "      <th>ID</th>\n",
              "      <th>CODE_GENDER</th>\n",
              "      <th>FLAG_OWN_CAR</th>\n",
              "      <th>FLAG_OWN_REALTY</th>\n",
              "      <th>CNT_CHILDREN</th>\n",
              "      <th>AMT_INCOME_TOTAL</th>\n",
              "      <th>NAME_INCOME_TYPE</th>\n",
              "      <th>NAME_EDUCATION_TYPE</th>\n",
              "      <th>NAME_FAMILY_STATUS</th>\n",
              "      <th>NAME_HOUSING_TYPE</th>\n",
              "      <th>DAYS_BIRTH</th>\n",
              "      <th>DAYS_EMPLOYED</th>\n",
              "      <th>FLAG_MOBIL</th>\n",
              "      <th>FLAG_WORK_PHONE</th>\n",
              "      <th>FLAG_PHONE</th>\n",
              "      <th>FLAG_EMAIL</th>\n",
              "      <th>OCCUPATION_TYPE</th>\n",
              "      <th>CNT_FAM_MEMBERS</th>\n",
              "    </tr>\n",
              "  </thead>\n",
              "  <tbody>\n",
              "    <tr>\n",
              "      <th>0</th>\n",
              "      <td>5008804</td>\n",
              "      <td>M</td>\n",
              "      <td>Y</td>\n",
              "      <td>Y</td>\n",
              "      <td>0</td>\n",
              "      <td>427500.0</td>\n",
              "      <td>Working</td>\n",
              "      <td>Higher education</td>\n",
              "      <td>Civil marriage</td>\n",
              "      <td>Rented apartment</td>\n",
              "      <td>-12005</td>\n",
              "      <td>-4542</td>\n",
              "      <td>1</td>\n",
              "      <td>1</td>\n",
              "      <td>0</td>\n",
              "      <td>0</td>\n",
              "      <td>NaN</td>\n",
              "      <td>2.0</td>\n",
              "    </tr>\n",
              "    <tr>\n",
              "      <th>1</th>\n",
              "      <td>5008805</td>\n",
              "      <td>M</td>\n",
              "      <td>Y</td>\n",
              "      <td>Y</td>\n",
              "      <td>0</td>\n",
              "      <td>427500.0</td>\n",
              "      <td>Working</td>\n",
              "      <td>Higher education</td>\n",
              "      <td>Civil marriage</td>\n",
              "      <td>Rented apartment</td>\n",
              "      <td>-12005</td>\n",
              "      <td>-4542</td>\n",
              "      <td>1</td>\n",
              "      <td>1</td>\n",
              "      <td>0</td>\n",
              "      <td>0</td>\n",
              "      <td>NaN</td>\n",
              "      <td>2.0</td>\n",
              "    </tr>\n",
              "    <tr>\n",
              "      <th>2</th>\n",
              "      <td>5008806</td>\n",
              "      <td>M</td>\n",
              "      <td>Y</td>\n",
              "      <td>Y</td>\n",
              "      <td>0</td>\n",
              "      <td>112500.0</td>\n",
              "      <td>Working</td>\n",
              "      <td>Secondary / secondary special</td>\n",
              "      <td>Married</td>\n",
              "      <td>House / apartment</td>\n",
              "      <td>-21474</td>\n",
              "      <td>-1134</td>\n",
              "      <td>1</td>\n",
              "      <td>0</td>\n",
              "      <td>0</td>\n",
              "      <td>0</td>\n",
              "      <td>Security staff</td>\n",
              "      <td>2.0</td>\n",
              "    </tr>\n",
              "    <tr>\n",
              "      <th>3</th>\n",
              "      <td>5008808</td>\n",
              "      <td>F</td>\n",
              "      <td>N</td>\n",
              "      <td>Y</td>\n",
              "      <td>0</td>\n",
              "      <td>270000.0</td>\n",
              "      <td>Commercial associate</td>\n",
              "      <td>Secondary / secondary special</td>\n",
              "      <td>Single / not married</td>\n",
              "      <td>House / apartment</td>\n",
              "      <td>-19110</td>\n",
              "      <td>-3051</td>\n",
              "      <td>1</td>\n",
              "      <td>0</td>\n",
              "      <td>1</td>\n",
              "      <td>1</td>\n",
              "      <td>Sales staff</td>\n",
              "      <td>1.0</td>\n",
              "    </tr>\n",
              "    <tr>\n",
              "      <th>4</th>\n",
              "      <td>5008809</td>\n",
              "      <td>F</td>\n",
              "      <td>N</td>\n",
              "      <td>Y</td>\n",
              "      <td>0</td>\n",
              "      <td>270000.0</td>\n",
              "      <td>Commercial associate</td>\n",
              "      <td>Secondary / secondary special</td>\n",
              "      <td>Single / not married</td>\n",
              "      <td>House / apartment</td>\n",
              "      <td>-19110</td>\n",
              "      <td>-3051</td>\n",
              "      <td>1</td>\n",
              "      <td>0</td>\n",
              "      <td>1</td>\n",
              "      <td>1</td>\n",
              "      <td>Sales staff</td>\n",
              "      <td>1.0</td>\n",
              "    </tr>\n",
              "  </tbody>\n",
              "</table>\n",
              "</div>"
            ],
            "text/plain": [
              "        ID CODE_GENDER FLAG_OWN_CAR FLAG_OWN_REALTY  CNT_CHILDREN  \\\n",
              "0  5008804           M            Y               Y             0   \n",
              "1  5008805           M            Y               Y             0   \n",
              "2  5008806           M            Y               Y             0   \n",
              "3  5008808           F            N               Y             0   \n",
              "4  5008809           F            N               Y             0   \n",
              "\n",
              "   AMT_INCOME_TOTAL      NAME_INCOME_TYPE            NAME_EDUCATION_TYPE  \\\n",
              "0          427500.0               Working               Higher education   \n",
              "1          427500.0               Working               Higher education   \n",
              "2          112500.0               Working  Secondary / secondary special   \n",
              "3          270000.0  Commercial associate  Secondary / secondary special   \n",
              "4          270000.0  Commercial associate  Secondary / secondary special   \n",
              "\n",
              "     NAME_FAMILY_STATUS  NAME_HOUSING_TYPE  DAYS_BIRTH  DAYS_EMPLOYED  \\\n",
              "0        Civil marriage   Rented apartment      -12005          -4542   \n",
              "1        Civil marriage   Rented apartment      -12005          -4542   \n",
              "2               Married  House / apartment      -21474          -1134   \n",
              "3  Single / not married  House / apartment      -19110          -3051   \n",
              "4  Single / not married  House / apartment      -19110          -3051   \n",
              "\n",
              "   FLAG_MOBIL  FLAG_WORK_PHONE  FLAG_PHONE  FLAG_EMAIL OCCUPATION_TYPE  \\\n",
              "0           1                1           0           0             NaN   \n",
              "1           1                1           0           0             NaN   \n",
              "2           1                0           0           0  Security staff   \n",
              "3           1                0           1           1     Sales staff   \n",
              "4           1                0           1           1     Sales staff   \n",
              "\n",
              "   CNT_FAM_MEMBERS  \n",
              "0              2.0  \n",
              "1              2.0  \n",
              "2              2.0  \n",
              "3              1.0  \n",
              "4              1.0  "
            ]
          },
          "execution_count": 329,
          "metadata": {},
          "output_type": "execute_result"
        }
      ],
      "source": [
        "df_app.head()"
      ]
    },
    {
      "cell_type": "code",
      "execution_count": null,
      "metadata": {
        "colab": {
          "base_uri": "https://localhost:8080/",
          "height": 206
        },
        "id": "3WqNGpE6Wn1g",
        "outputId": "58b65eb7-7a9b-4ab9-e7ae-991838a09a30"
      },
      "outputs": [
        {
          "data": {
            "text/html": [
              "<div>\n",
              "<style scoped>\n",
              "    .dataframe tbody tr th:only-of-type {\n",
              "        vertical-align: middle;\n",
              "    }\n",
              "\n",
              "    .dataframe tbody tr th {\n",
              "        vertical-align: top;\n",
              "    }\n",
              "\n",
              "    .dataframe thead th {\n",
              "        text-align: right;\n",
              "    }\n",
              "</style>\n",
              "<table border=\"1\" class=\"dataframe\">\n",
              "  <thead>\n",
              "    <tr style=\"text-align: right;\">\n",
              "      <th></th>\n",
              "      <th>ID</th>\n",
              "      <th>MONTHS_BALANCE</th>\n",
              "      <th>STATUS</th>\n",
              "    </tr>\n",
              "  </thead>\n",
              "  <tbody>\n",
              "    <tr>\n",
              "      <th>0</th>\n",
              "      <td>5001711</td>\n",
              "      <td>0</td>\n",
              "      <td>X</td>\n",
              "    </tr>\n",
              "    <tr>\n",
              "      <th>1</th>\n",
              "      <td>5001711</td>\n",
              "      <td>-1</td>\n",
              "      <td>0</td>\n",
              "    </tr>\n",
              "    <tr>\n",
              "      <th>2</th>\n",
              "      <td>5001711</td>\n",
              "      <td>-2</td>\n",
              "      <td>0</td>\n",
              "    </tr>\n",
              "    <tr>\n",
              "      <th>3</th>\n",
              "      <td>5001711</td>\n",
              "      <td>-3</td>\n",
              "      <td>0</td>\n",
              "    </tr>\n",
              "    <tr>\n",
              "      <th>4</th>\n",
              "      <td>5001712</td>\n",
              "      <td>0</td>\n",
              "      <td>C</td>\n",
              "    </tr>\n",
              "  </tbody>\n",
              "</table>\n",
              "</div>"
            ],
            "text/plain": [
              "        ID  MONTHS_BALANCE STATUS\n",
              "0  5001711               0      X\n",
              "1  5001711              -1      0\n",
              "2  5001711              -2      0\n",
              "3  5001711              -3      0\n",
              "4  5001712               0      C"
            ]
          },
          "execution_count": 330,
          "metadata": {},
          "output_type": "execute_result"
        }
      ],
      "source": [
        "df_credit.head()"
      ]
    },
    {
      "cell_type": "code",
      "execution_count": null,
      "metadata": {
        "colab": {
          "base_uri": "https://localhost:8080/"
        },
        "id": "8jk_rg8hWnuN",
        "outputId": "ea253644-3694-49bc-a128-fcac8e6b9a74"
      },
      "outputs": [
        {
          "name": "stdout",
          "output_type": "stream",
          "text": [
            "<class 'pandas.core.frame.DataFrame'>\n",
            "RangeIndex: 1048575 entries, 0 to 1048574\n",
            "Data columns (total 3 columns):\n",
            " #   Column          Non-Null Count    Dtype \n",
            "---  ------          --------------    ----- \n",
            " 0   ID              1048575 non-null  int64 \n",
            " 1   MONTHS_BALANCE  1048575 non-null  int64 \n",
            " 2   STATUS          1048575 non-null  object\n",
            "dtypes: int64(2), object(1)\n",
            "memory usage: 24.0+ MB\n"
          ]
        }
      ],
      "source": [
        "df_credit.info()"
      ]
    },
    {
      "cell_type": "code",
      "execution_count": null,
      "metadata": {
        "colab": {
          "base_uri": "https://localhost:8080/"
        },
        "id": "AlZioQKpWnne",
        "outputId": "310ad24c-0be7-4c7a-99ba-39baae472541"
      },
      "outputs": [
        {
          "name": "stdout",
          "output_type": "stream",
          "text": [
            "<class 'pandas.core.frame.DataFrame'>\n",
            "RangeIndex: 438557 entries, 0 to 438556\n",
            "Data columns (total 18 columns):\n",
            " #   Column               Non-Null Count   Dtype  \n",
            "---  ------               --------------   -----  \n",
            " 0   ID                   438557 non-null  int64  \n",
            " 1   CODE_GENDER          438557 non-null  object \n",
            " 2   FLAG_OWN_CAR         438557 non-null  object \n",
            " 3   FLAG_OWN_REALTY      438557 non-null  object \n",
            " 4   CNT_CHILDREN         438557 non-null  int64  \n",
            " 5   AMT_INCOME_TOTAL     438557 non-null  float64\n",
            " 6   NAME_INCOME_TYPE     438557 non-null  object \n",
            " 7   NAME_EDUCATION_TYPE  438557 non-null  object \n",
            " 8   NAME_FAMILY_STATUS   438557 non-null  object \n",
            " 9   NAME_HOUSING_TYPE    438557 non-null  object \n",
            " 10  DAYS_BIRTH           438557 non-null  int64  \n",
            " 11  DAYS_EMPLOYED        438557 non-null  int64  \n",
            " 12  FLAG_MOBIL           438557 non-null  int64  \n",
            " 13  FLAG_WORK_PHONE      438557 non-null  int64  \n",
            " 14  FLAG_PHONE           438557 non-null  int64  \n",
            " 15  FLAG_EMAIL           438557 non-null  int64  \n",
            " 16  OCCUPATION_TYPE      304354 non-null  object \n",
            " 17  CNT_FAM_MEMBERS      438557 non-null  float64\n",
            "dtypes: float64(2), int64(8), object(8)\n",
            "memory usage: 60.2+ MB\n"
          ]
        }
      ],
      "source": [
        "df_app.info()"
      ]
    },
    {
      "cell_type": "code",
      "execution_count": null,
      "metadata": {
        "colab": {
          "base_uri": "https://localhost:8080/"
        },
        "id": "6u20txKyfSoy",
        "outputId": "57d33c88-be33-4cbe-9a5a-342a68c42117"
      },
      "outputs": [
        {
          "data": {
            "text/plain": [
              "438510"
            ]
          },
          "execution_count": 333,
          "metadata": {},
          "output_type": "execute_result"
        }
      ],
      "source": [
        "df_app['ID'].nunique()"
      ]
    },
    {
      "cell_type": "markdown",
      "metadata": {
        "id": "vqiSUhYqihpr"
      },
      "source": [
        "Ada 438510 data yang berbeda, dan ternyata ada duplikat, sehingga duplikat dapat didrop\n",
        "\n",
        "Dari info, hanya ada 1 type yang punya null yaitu OCCUPATION_TYPE\n",
        "\n",
        "Karena sulit sekali untuk diimpute dan nullnya banyak, maka kolomnya akan didrop\n",
        "\n",
        "Dapat dilihat kembali di info, ada beberapa kolom yang tidak dibutuhkan dalam prediksi, yaitu nomor telepon, email, dan tanggal lahir sehingga mereka pun juga dapat didrop."
      ]
    },
    {
      "cell_type": "code",
      "execution_count": null,
      "metadata": {
        "id": "q_UecB4nfq_c"
      },
      "outputs": [],
      "source": [
        "df_appclean= df_app.copy()\n",
        "df_appclean2= df_appclean.drop_duplicates('ID', keep='last') #asumsikan yang yang duplikat itu karena diupdate\n",
        "df_appclean3= df_appclean2.drop(['OCCUPATION_TYPE', 'FLAG_MOBIL', 'FLAG_WORK_PHONE', 'FLAG_PHONE', 'FLAG_EMAIL', 'DAYS_BIRTH'], axis=1)"
      ]
    },
    {
      "cell_type": "code",
      "execution_count": null,
      "metadata": {
        "colab": {
          "base_uri": "https://localhost:8080/"
        },
        "id": "zerM1zTrgJ9g",
        "outputId": "c0b62662-f6c1-46d8-e143-d5b1e48147fe"
      },
      "outputs": [
        {
          "name": "stdout",
          "output_type": "stream",
          "text": [
            "<class 'pandas.core.frame.DataFrame'>\n",
            "Int64Index: 438510 entries, 0 to 438556\n",
            "Data columns (total 12 columns):\n",
            " #   Column               Non-Null Count   Dtype  \n",
            "---  ------               --------------   -----  \n",
            " 0   ID                   438510 non-null  int64  \n",
            " 1   CODE_GENDER          438510 non-null  object \n",
            " 2   FLAG_OWN_CAR         438510 non-null  object \n",
            " 3   FLAG_OWN_REALTY      438510 non-null  object \n",
            " 4   CNT_CHILDREN         438510 non-null  int64  \n",
            " 5   AMT_INCOME_TOTAL     438510 non-null  float64\n",
            " 6   NAME_INCOME_TYPE     438510 non-null  object \n",
            " 7   NAME_EDUCATION_TYPE  438510 non-null  object \n",
            " 8   NAME_FAMILY_STATUS   438510 non-null  object \n",
            " 9   NAME_HOUSING_TYPE    438510 non-null  object \n",
            " 10  DAYS_EMPLOYED        438510 non-null  int64  \n",
            " 11  CNT_FAM_MEMBERS      438510 non-null  float64\n",
            "dtypes: float64(2), int64(3), object(7)\n",
            "memory usage: 43.5+ MB\n"
          ]
        }
      ],
      "source": [
        "df_appclean3.info()"
      ]
    },
    {
      "cell_type": "markdown",
      "metadata": {
        "id": "hDhi5Ff1iqJf"
      },
      "source": [
        "Sekarang kolom application sudah lebih bisa untuk dipetakan, sekarang kita akan melihat credit recordnya."
      ]
    },
    {
      "cell_type": "code",
      "execution_count": null,
      "metadata": {
        "colab": {
          "base_uri": "https://localhost:8080/"
        },
        "id": "_If_EcVScjvX",
        "outputId": "72b1258a-4ba6-4d18-f866-20354d25002d"
      },
      "outputs": [
        {
          "name": "stdout",
          "output_type": "stream",
          "text": [
            "<class 'pandas.core.frame.DataFrame'>\n",
            "RangeIndex: 1048575 entries, 0 to 1048574\n",
            "Data columns (total 3 columns):\n",
            " #   Column          Non-Null Count    Dtype \n",
            "---  ------          --------------    ----- \n",
            " 0   ID              1048575 non-null  int64 \n",
            " 1   MONTHS_BALANCE  1048575 non-null  int64 \n",
            " 2   STATUS          1048575 non-null  object\n",
            "dtypes: int64(2), object(1)\n",
            "memory usage: 24.0+ MB\n"
          ]
        }
      ],
      "source": [
        "df_credit.info()"
      ]
    },
    {
      "cell_type": "code",
      "execution_count": null,
      "metadata": {
        "colab": {
          "base_uri": "https://localhost:8080/"
        },
        "id": "WrUX6pptcjOW",
        "outputId": "453c42ec-6ae8-4783-d8c2-a1bcb6b80d40"
      },
      "outputs": [
        {
          "data": {
            "text/plain": [
              "45985"
            ]
          },
          "execution_count": 337,
          "metadata": {},
          "output_type": "execute_result"
        }
      ],
      "source": [
        "df_credit['ID'].nunique()"
      ]
    },
    {
      "cell_type": "markdown",
      "metadata": {
        "id": "gJFDsqUHjOlB"
      },
      "source": [
        "Ada 45985 unique ID di credit score. Dan karena"
      ]
    },
    {
      "cell_type": "code",
      "execution_count": null,
      "metadata": {
        "colab": {
          "base_uri": "https://localhost:8080/",
          "height": 206
        },
        "id": "3G41uRsscixK",
        "outputId": "31575375-dd49-4e47-8c3a-675ea10359fb"
      },
      "outputs": [
        {
          "data": {
            "text/html": [
              "<div>\n",
              "<style scoped>\n",
              "    .dataframe tbody tr th:only-of-type {\n",
              "        vertical-align: middle;\n",
              "    }\n",
              "\n",
              "    .dataframe tbody tr th {\n",
              "        vertical-align: top;\n",
              "    }\n",
              "\n",
              "    .dataframe thead th {\n",
              "        text-align: right;\n",
              "    }\n",
              "</style>\n",
              "<table border=\"1\" class=\"dataframe\">\n",
              "  <thead>\n",
              "    <tr style=\"text-align: right;\">\n",
              "      <th></th>\n",
              "      <th>ID</th>\n",
              "      <th>STATUS</th>\n",
              "    </tr>\n",
              "  </thead>\n",
              "  <tbody>\n",
              "    <tr>\n",
              "      <th>0</th>\n",
              "      <td>5001711</td>\n",
              "      <td>X</td>\n",
              "    </tr>\n",
              "    <tr>\n",
              "      <th>1</th>\n",
              "      <td>5001712</td>\n",
              "      <td>C</td>\n",
              "    </tr>\n",
              "    <tr>\n",
              "      <th>2</th>\n",
              "      <td>5001713</td>\n",
              "      <td>X</td>\n",
              "    </tr>\n",
              "    <tr>\n",
              "      <th>3</th>\n",
              "      <td>5001714</td>\n",
              "      <td>X</td>\n",
              "    </tr>\n",
              "    <tr>\n",
              "      <th>4</th>\n",
              "      <td>5001715</td>\n",
              "      <td>X</td>\n",
              "    </tr>\n",
              "  </tbody>\n",
              "</table>\n",
              "</div>"
            ],
            "text/plain": [
              "        ID STATUS\n",
              "0  5001711      X\n",
              "1  5001712      C\n",
              "2  5001713      X\n",
              "3  5001714      X\n",
              "4  5001715      X"
            ]
          },
          "execution_count": 338,
          "metadata": {},
          "output_type": "execute_result"
        }
      ],
      "source": [
        "status_clean= df_credit.groupby(['ID']).agg(max).reset_index()\n",
        "status_clean2=status_clean.drop(['MONTHS_BALANCE'], axis=1)\n",
        "status_clean2.head()"
      ]
    },
    {
      "cell_type": "code",
      "execution_count": null,
      "metadata": {
        "colab": {
          "base_uri": "https://localhost:8080/"
        },
        "id": "noHWVB5Yk_Jk",
        "outputId": "cbf317ad-59b0-4e10-895d-0ee0d3c3619a"
      },
      "outputs": [
        {
          "name": "stdout",
          "output_type": "stream",
          "text": [
            "<class 'pandas.core.frame.DataFrame'>\n",
            "RangeIndex: 45985 entries, 0 to 45984\n",
            "Data columns (total 2 columns):\n",
            " #   Column  Non-Null Count  Dtype \n",
            "---  ------  --------------  ----- \n",
            " 0   ID      45985 non-null  int64 \n",
            " 1   STATUS  45985 non-null  object\n",
            "dtypes: int64(1), object(1)\n",
            "memory usage: 718.6+ KB\n"
          ]
        }
      ],
      "source": [
        "status_clean2.info()"
      ]
    },
    {
      "cell_type": "markdown",
      "metadata": {
        "id": "3L-41Cy7lF2q"
      },
      "source": [
        "Sekarang 45985 ID unik tersebut telah disatukan dan months_balance telah didrop\n",
        "\n",
        "Disini, kita akan menyatukan dataframe status_clean2 dengan df_app menggunakan merge inner join"
      ]
    },
    {
      "cell_type": "code",
      "execution_count": null,
      "metadata": {
        "colab": {
          "base_uri": "https://localhost:8080/",
          "height": 322
        },
        "id": "-PPwD38ulXv8",
        "outputId": "ee44379a-b83f-4883-928a-81a630c6325a"
      },
      "outputs": [
        {
          "data": {
            "text/html": [
              "<div>\n",
              "<style scoped>\n",
              "    .dataframe tbody tr th:only-of-type {\n",
              "        vertical-align: middle;\n",
              "    }\n",
              "\n",
              "    .dataframe tbody tr th {\n",
              "        vertical-align: top;\n",
              "    }\n",
              "\n",
              "    .dataframe thead th {\n",
              "        text-align: right;\n",
              "    }\n",
              "</style>\n",
              "<table border=\"1\" class=\"dataframe\">\n",
              "  <thead>\n",
              "    <tr style=\"text-align: right;\">\n",
              "      <th></th>\n",
              "      <th>ID</th>\n",
              "      <th>CODE_GENDER</th>\n",
              "      <th>FLAG_OWN_CAR</th>\n",
              "      <th>FLAG_OWN_REALTY</th>\n",
              "      <th>CNT_CHILDREN</th>\n",
              "      <th>AMT_INCOME_TOTAL</th>\n",
              "      <th>NAME_INCOME_TYPE</th>\n",
              "      <th>NAME_EDUCATION_TYPE</th>\n",
              "      <th>NAME_FAMILY_STATUS</th>\n",
              "      <th>NAME_HOUSING_TYPE</th>\n",
              "      <th>DAYS_EMPLOYED</th>\n",
              "      <th>CNT_FAM_MEMBERS</th>\n",
              "      <th>STATUS</th>\n",
              "    </tr>\n",
              "  </thead>\n",
              "  <tbody>\n",
              "    <tr>\n",
              "      <th>0</th>\n",
              "      <td>5008804</td>\n",
              "      <td>M</td>\n",
              "      <td>Y</td>\n",
              "      <td>Y</td>\n",
              "      <td>0</td>\n",
              "      <td>427500.0</td>\n",
              "      <td>Working</td>\n",
              "      <td>Higher education</td>\n",
              "      <td>Civil marriage</td>\n",
              "      <td>Rented apartment</td>\n",
              "      <td>-4542</td>\n",
              "      <td>2.0</td>\n",
              "      <td>X</td>\n",
              "    </tr>\n",
              "    <tr>\n",
              "      <th>1</th>\n",
              "      <td>5008805</td>\n",
              "      <td>M</td>\n",
              "      <td>Y</td>\n",
              "      <td>Y</td>\n",
              "      <td>0</td>\n",
              "      <td>427500.0</td>\n",
              "      <td>Working</td>\n",
              "      <td>Higher education</td>\n",
              "      <td>Civil marriage</td>\n",
              "      <td>Rented apartment</td>\n",
              "      <td>-4542</td>\n",
              "      <td>2.0</td>\n",
              "      <td>X</td>\n",
              "    </tr>\n",
              "    <tr>\n",
              "      <th>2</th>\n",
              "      <td>5008806</td>\n",
              "      <td>M</td>\n",
              "      <td>Y</td>\n",
              "      <td>Y</td>\n",
              "      <td>0</td>\n",
              "      <td>112500.0</td>\n",
              "      <td>Working</td>\n",
              "      <td>Secondary / secondary special</td>\n",
              "      <td>Married</td>\n",
              "      <td>House / apartment</td>\n",
              "      <td>-1134</td>\n",
              "      <td>2.0</td>\n",
              "      <td>X</td>\n",
              "    </tr>\n",
              "    <tr>\n",
              "      <th>3</th>\n",
              "      <td>5008808</td>\n",
              "      <td>F</td>\n",
              "      <td>N</td>\n",
              "      <td>Y</td>\n",
              "      <td>0</td>\n",
              "      <td>270000.0</td>\n",
              "      <td>Commercial associate</td>\n",
              "      <td>Secondary / secondary special</td>\n",
              "      <td>Single / not married</td>\n",
              "      <td>House / apartment</td>\n",
              "      <td>-3051</td>\n",
              "      <td>1.0</td>\n",
              "      <td>X</td>\n",
              "    </tr>\n",
              "    <tr>\n",
              "      <th>4</th>\n",
              "      <td>5008809</td>\n",
              "      <td>F</td>\n",
              "      <td>N</td>\n",
              "      <td>Y</td>\n",
              "      <td>0</td>\n",
              "      <td>270000.0</td>\n",
              "      <td>Commercial associate</td>\n",
              "      <td>Secondary / secondary special</td>\n",
              "      <td>Single / not married</td>\n",
              "      <td>House / apartment</td>\n",
              "      <td>-3051</td>\n",
              "      <td>1.0</td>\n",
              "      <td>X</td>\n",
              "    </tr>\n",
              "  </tbody>\n",
              "</table>\n",
              "</div>"
            ],
            "text/plain": [
              "        ID CODE_GENDER FLAG_OWN_CAR FLAG_OWN_REALTY  CNT_CHILDREN  \\\n",
              "0  5008804           M            Y               Y             0   \n",
              "1  5008805           M            Y               Y             0   \n",
              "2  5008806           M            Y               Y             0   \n",
              "3  5008808           F            N               Y             0   \n",
              "4  5008809           F            N               Y             0   \n",
              "\n",
              "   AMT_INCOME_TOTAL      NAME_INCOME_TYPE            NAME_EDUCATION_TYPE  \\\n",
              "0          427500.0               Working               Higher education   \n",
              "1          427500.0               Working               Higher education   \n",
              "2          112500.0               Working  Secondary / secondary special   \n",
              "3          270000.0  Commercial associate  Secondary / secondary special   \n",
              "4          270000.0  Commercial associate  Secondary / secondary special   \n",
              "\n",
              "     NAME_FAMILY_STATUS  NAME_HOUSING_TYPE  DAYS_EMPLOYED  CNT_FAM_MEMBERS  \\\n",
              "0        Civil marriage   Rented apartment          -4542              2.0   \n",
              "1        Civil marriage   Rented apartment          -4542              2.0   \n",
              "2               Married  House / apartment          -1134              2.0   \n",
              "3  Single / not married  House / apartment          -3051              1.0   \n",
              "4  Single / not married  House / apartment          -3051              1.0   \n",
              "\n",
              "  STATUS  \n",
              "0      X  \n",
              "1      X  \n",
              "2      X  \n",
              "3      X  \n",
              "4      X  "
            ]
          },
          "execution_count": 340,
          "metadata": {},
          "output_type": "execute_result"
        }
      ],
      "source": [
        "df_merge= pd.merge(df_appclean3, status_clean2, how='inner', on=['ID'])\n",
        "df_merge.head()"
      ]
    },
    {
      "cell_type": "code",
      "execution_count": null,
      "metadata": {
        "colab": {
          "base_uri": "https://localhost:8080/"
        },
        "id": "0rXg0HmJqtyg",
        "outputId": "10637d45-e0c4-4d80-91f0-b0ae2a62ab9e"
      },
      "outputs": [
        {
          "name": "stdout",
          "output_type": "stream",
          "text": [
            "<class 'pandas.core.frame.DataFrame'>\n",
            "Int64Index: 36457 entries, 0 to 36456\n",
            "Data columns (total 13 columns):\n",
            " #   Column               Non-Null Count  Dtype  \n",
            "---  ------               --------------  -----  \n",
            " 0   ID                   36457 non-null  int64  \n",
            " 1   CODE_GENDER          36457 non-null  object \n",
            " 2   FLAG_OWN_CAR         36457 non-null  object \n",
            " 3   FLAG_OWN_REALTY      36457 non-null  object \n",
            " 4   CNT_CHILDREN         36457 non-null  int64  \n",
            " 5   AMT_INCOME_TOTAL     36457 non-null  float64\n",
            " 6   NAME_INCOME_TYPE     36457 non-null  object \n",
            " 7   NAME_EDUCATION_TYPE  36457 non-null  object \n",
            " 8   NAME_FAMILY_STATUS   36457 non-null  object \n",
            " 9   NAME_HOUSING_TYPE    36457 non-null  object \n",
            " 10  DAYS_EMPLOYED        36457 non-null  int64  \n",
            " 11  CNT_FAM_MEMBERS      36457 non-null  float64\n",
            " 12  STATUS               36457 non-null  object \n",
            "dtypes: float64(2), int64(3), object(8)\n",
            "memory usage: 3.9+ MB\n"
          ]
        }
      ],
      "source": [
        "df_merge.info()"
      ]
    },
    {
      "cell_type": "markdown",
      "metadata": {
        "id": "qCdd8fsa3gJ9"
      },
      "source": [
        "Setelah mengjoin table, sekarang kita akan mengencode data-data objectnya"
      ]
    },
    {
      "cell_type": "code",
      "execution_count": null,
      "metadata": {
        "colab": {
          "base_uri": "https://localhost:8080/"
        },
        "id": "SJ1m_3nn3Hm0",
        "outputId": "c389fd14-fd74-4d6b-f1ab-91c1373620e2"
      },
      "outputs": [
        {
          "name": "stdout",
          "output_type": "stream",
          "text": [
            "Encoded labels for column 'CODE_GENDER':\n",
            "Label 0: F\n",
            "Label 1: M\n",
            "\n",
            "\n",
            "Encoded labels for column 'FLAG_OWN_CAR':\n",
            "Label 0: N\n",
            "Label 1: Y\n",
            "\n",
            "\n",
            "Encoded labels for column 'FLAG_OWN_REALTY':\n",
            "Label 0: N\n",
            "Label 1: Y\n",
            "\n",
            "\n",
            "Encoded labels for column 'NAME_INCOME_TYPE':\n",
            "Label 0: Commercial associate\n",
            "Label 1: Pensioner\n",
            "Label 2: State servant\n",
            "Label 3: Student\n",
            "Label 4: Working\n",
            "\n",
            "\n",
            "Encoded labels for column 'NAME_EDUCATION_TYPE':\n",
            "Label 0: Academic degree\n",
            "Label 1: Higher education\n",
            "Label 2: Incomplete higher\n",
            "Label 3: Lower secondary\n",
            "Label 4: Secondary / secondary special\n",
            "\n",
            "\n",
            "Encoded labels for column 'NAME_FAMILY_STATUS':\n",
            "Label 0: Civil marriage\n",
            "Label 1: Married\n",
            "Label 2: Separated\n",
            "Label 3: Single / not married\n",
            "Label 4: Widow\n",
            "\n",
            "\n",
            "Encoded labels for column 'NAME_HOUSING_TYPE':\n",
            "Label 0: Co-op apartment\n",
            "Label 1: House / apartment\n",
            "Label 2: Municipal apartment\n",
            "Label 3: Office apartment\n",
            "Label 4: Rented apartment\n",
            "Label 5: With parents\n",
            "\n",
            "\n",
            "Encoded labels for column 'STATUS':\n",
            "Label 0: 0\n",
            "Label 1: 1\n",
            "Label 2: 2\n",
            "Label 3: 3\n",
            "Label 4: 4\n",
            "Label 5: 5\n",
            "Label 6: C\n",
            "Label 7: X\n",
            "\n",
            "\n"
          ]
        }
      ],
      "source": [
        "from sklearn.preprocessing import LabelEncoder\n",
        "df_encoded= df_merge.copy()\n",
        "label_encoders = {}\n",
        "\n",
        "\n",
        "for x in df_merge:\n",
        "  if df_encoded[x].dtypes == 'object':\n",
        "    encoder= LabelEncoder()\n",
        "    df_encoded[x]= encoder.fit_transform(df_encoded[x])\n",
        "    label_encoders[x] = encoder\n",
        "\n",
        "\n",
        "for column, encoded in label_encoders.items():\n",
        "    encoded_labels = encoded.classes_\n",
        "    print(f\"Encoded labels for column '{column}':\")\n",
        "    for label, category in enumerate(encoded_labels):\n",
        "        print(f\"Label {label}: {category}\")\n",
        "    print()\n",
        "    print()"
      ]
    },
    {
      "cell_type": "markdown",
      "metadata": {
        "id": "r-EY9pjA9koX"
      },
      "source": [
        "Encode berhasil dilakukan. Uraian label dapat dilihat di atas"
      ]
    },
    {
      "cell_type": "code",
      "execution_count": null,
      "metadata": {
        "colab": {
          "base_uri": "https://localhost:8080/",
          "height": 270
        },
        "id": "18d6V4kL6Y4K",
        "outputId": "9a1ffaa8-f553-45eb-c4aa-52d21da60047"
      },
      "outputs": [
        {
          "data": {
            "text/html": [
              "<div>\n",
              "<style scoped>\n",
              "    .dataframe tbody tr th:only-of-type {\n",
              "        vertical-align: middle;\n",
              "    }\n",
              "\n",
              "    .dataframe tbody tr th {\n",
              "        vertical-align: top;\n",
              "    }\n",
              "\n",
              "    .dataframe thead th {\n",
              "        text-align: right;\n",
              "    }\n",
              "</style>\n",
              "<table border=\"1\" class=\"dataframe\">\n",
              "  <thead>\n",
              "    <tr style=\"text-align: right;\">\n",
              "      <th></th>\n",
              "      <th>ID</th>\n",
              "      <th>CODE_GENDER</th>\n",
              "      <th>FLAG_OWN_CAR</th>\n",
              "      <th>FLAG_OWN_REALTY</th>\n",
              "      <th>CNT_CHILDREN</th>\n",
              "      <th>AMT_INCOME_TOTAL</th>\n",
              "      <th>NAME_INCOME_TYPE</th>\n",
              "      <th>NAME_EDUCATION_TYPE</th>\n",
              "      <th>NAME_FAMILY_STATUS</th>\n",
              "      <th>NAME_HOUSING_TYPE</th>\n",
              "      <th>DAYS_EMPLOYED</th>\n",
              "      <th>CNT_FAM_MEMBERS</th>\n",
              "      <th>STATUS</th>\n",
              "    </tr>\n",
              "  </thead>\n",
              "  <tbody>\n",
              "    <tr>\n",
              "      <th>0</th>\n",
              "      <td>5008804</td>\n",
              "      <td>1</td>\n",
              "      <td>1</td>\n",
              "      <td>1</td>\n",
              "      <td>0</td>\n",
              "      <td>427500.0</td>\n",
              "      <td>4</td>\n",
              "      <td>1</td>\n",
              "      <td>0</td>\n",
              "      <td>4</td>\n",
              "      <td>-4542</td>\n",
              "      <td>2.0</td>\n",
              "      <td>7</td>\n",
              "    </tr>\n",
              "    <tr>\n",
              "      <th>1</th>\n",
              "      <td>5008805</td>\n",
              "      <td>1</td>\n",
              "      <td>1</td>\n",
              "      <td>1</td>\n",
              "      <td>0</td>\n",
              "      <td>427500.0</td>\n",
              "      <td>4</td>\n",
              "      <td>1</td>\n",
              "      <td>0</td>\n",
              "      <td>4</td>\n",
              "      <td>-4542</td>\n",
              "      <td>2.0</td>\n",
              "      <td>7</td>\n",
              "    </tr>\n",
              "    <tr>\n",
              "      <th>2</th>\n",
              "      <td>5008806</td>\n",
              "      <td>1</td>\n",
              "      <td>1</td>\n",
              "      <td>1</td>\n",
              "      <td>0</td>\n",
              "      <td>112500.0</td>\n",
              "      <td>4</td>\n",
              "      <td>4</td>\n",
              "      <td>1</td>\n",
              "      <td>1</td>\n",
              "      <td>-1134</td>\n",
              "      <td>2.0</td>\n",
              "      <td>7</td>\n",
              "    </tr>\n",
              "    <tr>\n",
              "      <th>3</th>\n",
              "      <td>5008808</td>\n",
              "      <td>0</td>\n",
              "      <td>0</td>\n",
              "      <td>1</td>\n",
              "      <td>0</td>\n",
              "      <td>270000.0</td>\n",
              "      <td>0</td>\n",
              "      <td>4</td>\n",
              "      <td>3</td>\n",
              "      <td>1</td>\n",
              "      <td>-3051</td>\n",
              "      <td>1.0</td>\n",
              "      <td>7</td>\n",
              "    </tr>\n",
              "    <tr>\n",
              "      <th>4</th>\n",
              "      <td>5008809</td>\n",
              "      <td>0</td>\n",
              "      <td>0</td>\n",
              "      <td>1</td>\n",
              "      <td>0</td>\n",
              "      <td>270000.0</td>\n",
              "      <td>0</td>\n",
              "      <td>4</td>\n",
              "      <td>3</td>\n",
              "      <td>1</td>\n",
              "      <td>-3051</td>\n",
              "      <td>1.0</td>\n",
              "      <td>7</td>\n",
              "    </tr>\n",
              "  </tbody>\n",
              "</table>\n",
              "</div>"
            ],
            "text/plain": [
              "        ID  CODE_GENDER  FLAG_OWN_CAR  FLAG_OWN_REALTY  CNT_CHILDREN  \\\n",
              "0  5008804            1             1                1             0   \n",
              "1  5008805            1             1                1             0   \n",
              "2  5008806            1             1                1             0   \n",
              "3  5008808            0             0                1             0   \n",
              "4  5008809            0             0                1             0   \n",
              "\n",
              "   AMT_INCOME_TOTAL  NAME_INCOME_TYPE  NAME_EDUCATION_TYPE  \\\n",
              "0          427500.0                 4                    1   \n",
              "1          427500.0                 4                    1   \n",
              "2          112500.0                 4                    4   \n",
              "3          270000.0                 0                    4   \n",
              "4          270000.0                 0                    4   \n",
              "\n",
              "   NAME_FAMILY_STATUS  NAME_HOUSING_TYPE  DAYS_EMPLOYED  CNT_FAM_MEMBERS  \\\n",
              "0                   0                  4          -4542              2.0   \n",
              "1                   0                  4          -4542              2.0   \n",
              "2                   1                  1          -1134              2.0   \n",
              "3                   3                  1          -3051              1.0   \n",
              "4                   3                  1          -3051              1.0   \n",
              "\n",
              "   STATUS  \n",
              "0       7  \n",
              "1       7  \n",
              "2       7  \n",
              "3       7  \n",
              "4       7  "
            ]
          },
          "execution_count": 343,
          "metadata": {},
          "output_type": "execute_result"
        }
      ],
      "source": [
        "df_encoded.head()"
      ]
    },
    {
      "cell_type": "code",
      "execution_count": null,
      "metadata": {
        "id": "kJtX6opH81rZ"
      },
      "outputs": [],
      "source": [
        "def status_change(x):\n",
        "  if((x==7)|(x==6)):\n",
        "    return 1\n",
        "  else:\n",
        "    return 0\n",
        "\n",
        "df_clean= df_encoded.copy()\n",
        "df_clean['CNT_FAM_MEMBERS']=df_clean['CNT_FAM_MEMBERS'].astype(int)\n",
        "df_clean['STATUS']= df_clean['STATUS'].apply(status_change)\n",
        "\n",
        "df_clean.loc[df_clean.DAYS_EMPLOYED >0, \"DAYS_EMPLOYED\"]= 0\n",
        "df_clean.loc[df_clean.DAYS_EMPLOYED <0, \"DAYS_EMPLOYED\"]= 1\n",
        "\n",
        "\n",
        "df_final=df_clean.copy()"
      ]
    },
    {
      "cell_type": "markdown",
      "metadata": {
        "id": "73VBTSJRVcJl"
      },
      "source": [
        "Disini jika data dari DAYS_EMPLOYED positif kami ganti dengan 0 untuk memudahkan pengklasifikasian bahwa orang tersebut tidak bekerja (unemployed)\n",
        "sedangkan untuk yang negatif kami ganti dengan 1 untuk mengklasifikasikan bahwa orang tersebut bekerja"
      ]
    },
    {
      "cell_type": "code",
      "execution_count": null,
      "metadata": {
        "colab": {
          "base_uri": "https://localhost:8080/",
          "height": 270
        },
        "id": "CurTmlLVEQGa",
        "outputId": "147da387-313d-4d8a-c42b-22e413ae627d"
      },
      "outputs": [
        {
          "data": {
            "text/html": [
              "<div>\n",
              "<style scoped>\n",
              "    .dataframe tbody tr th:only-of-type {\n",
              "        vertical-align: middle;\n",
              "    }\n",
              "\n",
              "    .dataframe tbody tr th {\n",
              "        vertical-align: top;\n",
              "    }\n",
              "\n",
              "    .dataframe thead th {\n",
              "        text-align: right;\n",
              "    }\n",
              "</style>\n",
              "<table border=\"1\" class=\"dataframe\">\n",
              "  <thead>\n",
              "    <tr style=\"text-align: right;\">\n",
              "      <th></th>\n",
              "      <th>ID</th>\n",
              "      <th>CODE_GENDER</th>\n",
              "      <th>FLAG_OWN_CAR</th>\n",
              "      <th>FLAG_OWN_REALTY</th>\n",
              "      <th>CNT_CHILDREN</th>\n",
              "      <th>AMT_INCOME_TOTAL</th>\n",
              "      <th>NAME_INCOME_TYPE</th>\n",
              "      <th>NAME_EDUCATION_TYPE</th>\n",
              "      <th>NAME_FAMILY_STATUS</th>\n",
              "      <th>NAME_HOUSING_TYPE</th>\n",
              "      <th>DAYS_EMPLOYED</th>\n",
              "      <th>CNT_FAM_MEMBERS</th>\n",
              "      <th>STATUS</th>\n",
              "    </tr>\n",
              "  </thead>\n",
              "  <tbody>\n",
              "    <tr>\n",
              "      <th>0</th>\n",
              "      <td>5008804</td>\n",
              "      <td>1</td>\n",
              "      <td>1</td>\n",
              "      <td>1</td>\n",
              "      <td>0</td>\n",
              "      <td>427500.0</td>\n",
              "      <td>4</td>\n",
              "      <td>1</td>\n",
              "      <td>0</td>\n",
              "      <td>4</td>\n",
              "      <td>1</td>\n",
              "      <td>2</td>\n",
              "      <td>1</td>\n",
              "    </tr>\n",
              "    <tr>\n",
              "      <th>1</th>\n",
              "      <td>5008805</td>\n",
              "      <td>1</td>\n",
              "      <td>1</td>\n",
              "      <td>1</td>\n",
              "      <td>0</td>\n",
              "      <td>427500.0</td>\n",
              "      <td>4</td>\n",
              "      <td>1</td>\n",
              "      <td>0</td>\n",
              "      <td>4</td>\n",
              "      <td>1</td>\n",
              "      <td>2</td>\n",
              "      <td>1</td>\n",
              "    </tr>\n",
              "    <tr>\n",
              "      <th>2</th>\n",
              "      <td>5008806</td>\n",
              "      <td>1</td>\n",
              "      <td>1</td>\n",
              "      <td>1</td>\n",
              "      <td>0</td>\n",
              "      <td>112500.0</td>\n",
              "      <td>4</td>\n",
              "      <td>4</td>\n",
              "      <td>1</td>\n",
              "      <td>1</td>\n",
              "      <td>1</td>\n",
              "      <td>2</td>\n",
              "      <td>1</td>\n",
              "    </tr>\n",
              "    <tr>\n",
              "      <th>3</th>\n",
              "      <td>5008808</td>\n",
              "      <td>0</td>\n",
              "      <td>0</td>\n",
              "      <td>1</td>\n",
              "      <td>0</td>\n",
              "      <td>270000.0</td>\n",
              "      <td>0</td>\n",
              "      <td>4</td>\n",
              "      <td>3</td>\n",
              "      <td>1</td>\n",
              "      <td>1</td>\n",
              "      <td>1</td>\n",
              "      <td>1</td>\n",
              "    </tr>\n",
              "    <tr>\n",
              "      <th>4</th>\n",
              "      <td>5008809</td>\n",
              "      <td>0</td>\n",
              "      <td>0</td>\n",
              "      <td>1</td>\n",
              "      <td>0</td>\n",
              "      <td>270000.0</td>\n",
              "      <td>0</td>\n",
              "      <td>4</td>\n",
              "      <td>3</td>\n",
              "      <td>1</td>\n",
              "      <td>1</td>\n",
              "      <td>1</td>\n",
              "      <td>1</td>\n",
              "    </tr>\n",
              "  </tbody>\n",
              "</table>\n",
              "</div>"
            ],
            "text/plain": [
              "        ID  CODE_GENDER  FLAG_OWN_CAR  FLAG_OWN_REALTY  CNT_CHILDREN  \\\n",
              "0  5008804            1             1                1             0   \n",
              "1  5008805            1             1                1             0   \n",
              "2  5008806            1             1                1             0   \n",
              "3  5008808            0             0                1             0   \n",
              "4  5008809            0             0                1             0   \n",
              "\n",
              "   AMT_INCOME_TOTAL  NAME_INCOME_TYPE  NAME_EDUCATION_TYPE  \\\n",
              "0          427500.0                 4                    1   \n",
              "1          427500.0                 4                    1   \n",
              "2          112500.0                 4                    4   \n",
              "3          270000.0                 0                    4   \n",
              "4          270000.0                 0                    4   \n",
              "\n",
              "   NAME_FAMILY_STATUS  NAME_HOUSING_TYPE  DAYS_EMPLOYED  CNT_FAM_MEMBERS  \\\n",
              "0                   0                  4              1                2   \n",
              "1                   0                  4              1                2   \n",
              "2                   1                  1              1                2   \n",
              "3                   3                  1              1                1   \n",
              "4                   3                  1              1                1   \n",
              "\n",
              "   STATUS  \n",
              "0       1  \n",
              "1       1  \n",
              "2       1  \n",
              "3       1  \n",
              "4       1  "
            ]
          },
          "execution_count": 345,
          "metadata": {},
          "output_type": "execute_result"
        }
      ],
      "source": [
        "df_final.head()"
      ]
    },
    {
      "cell_type": "code",
      "execution_count": null,
      "metadata": {
        "colab": {
          "base_uri": "https://localhost:8080/"
        },
        "id": "teJoYuwG-qZ_",
        "outputId": "a169adab-58a3-4751-bcb3-92a7ed7084f7"
      },
      "outputs": [
        {
          "data": {
            "text/plain": [
              "1    31407\n",
              "0     5050\n",
              "Name: STATUS, dtype: int64"
            ]
          },
          "execution_count": 346,
          "metadata": {},
          "output_type": "execute_result"
        }
      ],
      "source": [
        "df_final['STATUS'].value_counts()"
      ]
    },
    {
      "cell_type": "markdown",
      "metadata": {
        "id": "fcXMciYp4LSY"
      },
      "source": [
        "Karena datanya imbalance, maka kami akan menoversampling data minoritas yaitu 0. Namun sebelum melakukannya, kami akan split training, validation, dan testing data. Dan kami akan melakukan oversampling di training dan validation data, namun tidak di testing data untuk menghindari bias."
      ]
    },
    {
      "cell_type": "code",
      "execution_count": null,
      "metadata": {
        "id": "4r-SuMR0B4me"
      },
      "outputs": [],
      "source": [
        "from sklearn.model_selection import train_test_split\n",
        "\n",
        "feat= df_final.drop(['STATUS'], axis=1)\n",
        "target= df_final['STATUS']\n",
        "\n",
        "X_presplit, X_pretest, Y_presplit, Y_pretest= train_test_split(feat, target, test_size=0.15, random_state=17)"
      ]
    },
    {
      "cell_type": "code",
      "execution_count": null,
      "metadata": {
        "id": "ApEmxNeO8hMu",
        "outputId": "766d7fa4-0e4b-412c-93f9-c07fe4d0bd3e"
      },
      "outputs": [
        {
          "name": "stdout",
          "output_type": "stream",
          "text": [
            "1    26682\n",
            "0     4306\n",
            "Name: STATUS, dtype: int64\n"
          ]
        }
      ],
      "source": [
        "print(pd.Series(Y_presplit).value_counts())"
      ]
    },
    {
      "cell_type": "code",
      "execution_count": null,
      "metadata": {
        "id": "xdh-lHY88hMu",
        "outputId": "8382af2d-0f27-4aac-bb0b-63549e12d630"
      },
      "outputs": [
        {
          "name": "stdout",
          "output_type": "stream",
          "text": [
            "1    4725\n",
            "0     744\n",
            "Name: STATUS, dtype: int64\n"
          ]
        }
      ],
      "source": [
        "print(pd.Series(Y_pretest).value_counts())"
      ]
    },
    {
      "cell_type": "markdown",
      "metadata": {
        "id": "xPs1RlCV8hMv"
      },
      "source": [
        "Karena data di testing cukup imbalanced, maka kami akan mencoba untuk menyeimbangkannya, kami akan mencoba untuk meningkatkan nilai 0 ke angka 1200"
      ]
    },
    {
      "cell_type": "code",
      "execution_count": null,
      "metadata": {
        "id": "_5BnDdPv8hMv"
      },
      "outputs": [],
      "source": [
        "current_test0= np.sum(Y_pretest==0)\n",
        "current_test1= np.sum(Y_pretest==1)\n",
        "desired_test0= 1200\n",
        "transfer_totest0= desired_test0-current_test0\n",
        "transfer_fromtest1 = transfer_totest0\n"
      ]
    },
    {
      "cell_type": "code",
      "execution_count": null,
      "metadata": {
        "id": "gvFAgcTY8hMw"
      },
      "outputs": [],
      "source": [
        "indices_to_transfer_target0 = np.random.choice(np.where(Y_presplit == 0)[0], size=transfer_totest0, replace=False)\n",
        "indices_to_transfer_target1 = np.random.choice(np.where(Y_pretest == 1)[0], size=transfer_fromtest1, replace=False)"
      ]
    },
    {
      "cell_type": "code",
      "execution_count": null,
      "metadata": {
        "id": "qJQcBiHm8hMw"
      },
      "outputs": [],
      "source": [
        "Xsplit0= X_presplit.iloc[indices_to_transfer_target0]\n",
        "Ysplit0= Y_presplit.iloc[indices_to_transfer_target0]\n",
        "Xtest1= X_pretest.iloc[indices_to_transfer_target1]\n",
        "Ytest1= Y_pretest.iloc[indices_to_transfer_target1]"
      ]
    },
    {
      "cell_type": "code",
      "execution_count": null,
      "metadata": {
        "id": "j5jBWmLS8hMw"
      },
      "outputs": [],
      "source": [
        "X_test = pd.concat([X_pretest, Xsplit0])\n",
        "Y_test = pd.concat([Y_pretest, Ysplit0])\n",
        "X_split = pd.concat([X_presplit, Xtest1])\n",
        "Y_split = pd.concat([Y_presplit, Ytest1])"
      ]
    },
    {
      "cell_type": "code",
      "execution_count": null,
      "metadata": {
        "id": "huk0U8S28hMw"
      },
      "outputs": [],
      "source": [
        "X_split = X_split.drop(Xsplit0.index)\n",
        "Y_split = Y_split.drop(Ysplit0.index)\n",
        "X_test = X_test.drop(Xtest1.index)\n",
        "Y_test = Y_test.drop(Ytest1.index)"
      ]
    },
    {
      "cell_type": "code",
      "execution_count": null,
      "metadata": {
        "id": "hGBApTDP8hM2",
        "outputId": "d793d416-8b24-4a9f-b1c4-d6cf37478d29"
      },
      "outputs": [
        {
          "name": "stdout",
          "output_type": "stream",
          "text": [
            "Adjusted Split Set Target 1 Count: 27138\n",
            "Adjusted Split Set Target 0 Count: 3850\n",
            "Adjusted Test Set Target 1 Count: 4269\n",
            "Adjusted Test Set Target 0 Count: 1200\n"
          ]
        }
      ],
      "source": [
        "print(\"Adjusted Split Set Target 1 Count:\", np.sum(Y_split == 1))\n",
        "print(\"Adjusted Split Set Target 0 Count:\", np.sum(Y_split == 0))\n",
        "print(\"Adjusted Test Set Target 1 Count:\", np.sum(Y_test == 1))\n",
        "print(\"Adjusted Test Set Target 0 Count:\", np.sum(Y_test == 0))"
      ]
    },
    {
      "cell_type": "code",
      "execution_count": null,
      "metadata": {
        "colab": {
          "base_uri": "https://localhost:8080/"
        },
        "id": "iEnJSGAm4zq0",
        "outputId": "beb6b91a-d471-4030-f6e6-bbc246c7cfa3"
      },
      "outputs": [
        {
          "name": "stdout",
          "output_type": "stream",
          "text": [
            "1    21715\n",
            "0    21705\n",
            "Name: STATUS, dtype: int64\n",
            "0    5433\n",
            "1    5423\n",
            "Name: STATUS, dtype: int64\n"
          ]
        },
        {
          "name": "stderr",
          "output_type": "stream",
          "text": [
            "c:\\Anaconda\\lib\\site-packages\\imblearn\\over_sampling\\_smote\\base.py:336: FutureWarning: The parameter `n_jobs` has been deprecated in 0.10 and will be removed in 0.12. You can pass an nearest neighbors estimator where `n_jobs` is already set instead.\n",
            "  warnings.warn(\n"
          ]
        }
      ],
      "source": [
        "#Kami akan menggunakan SMOTE untuk oversampling\n",
        "\n",
        "from imblearn.over_sampling import SMOTE\n",
        "smote=SMOTE(n_jobs=-1)\n",
        "\n",
        "X_splitfinal, Y_splitfinal = smote.fit_resample(X_split,Y_split)\n",
        "X_train, X_valid, Y_train, Y_valid= train_test_split(X_splitfinal, Y_splitfinal, test_size=0.2)\n",
        "\n",
        "#Sehingga split menjadi Training 68%, Validation 17%, dan Testing 15%\n",
        "\n",
        "#Value after SMOTE\n",
        "print(pd.Series(Y_train).value_counts())\n",
        "print(pd.Series(Y_valid).value_counts())"
      ]
    },
    {
      "cell_type": "code",
      "execution_count": null,
      "metadata": {
        "id": "mZGBczDGE5xT"
      },
      "outputs": [],
      "source": [
        "from sklearn.ensemble import VotingClassifier\n",
        "from sklearn.tree import DecisionTreeClassifier\n",
        "from sklearn.ensemble import RandomForestClassifier\n",
        "from sklearn.neighbors import KNeighborsClassifier\n",
        "from sklearn.naive_bayes import GaussianNB\n",
        "from sklearn.metrics import classification_report\n",
        "from sklearn.model_selection import cross_val_score, KFold\n",
        "DT= DecisionTreeClassifier()\n",
        "RF= RandomForestClassifier(n_jobs=-1)\n",
        "KNN = KNeighborsClassifier(n_neighbors=5, n_jobs=-1)\n",
        "NB= GaussianNB()\n",
        "K_Fold = KFold(n_splits=5, shuffle=True)"
      ]
    },
    {
      "cell_type": "code",
      "execution_count": null,
      "metadata": {
        "colab": {
          "base_uri": "https://localhost:8080/"
        },
        "id": "p6VoCRt4Idor",
        "outputId": "960efa74-c57b-4d7d-ca14-661e09702989"
      },
      "outputs": [
        {
          "name": "stdout",
          "output_type": "stream",
          "text": [
            "              precision    recall  f1-score   support\n",
            "\n",
            "           0       0.88      0.87      0.87      5438\n",
            "           1       0.87      0.87      0.87      5418\n",
            "\n",
            "    accuracy                           0.87     10856\n",
            "   macro avg       0.87      0.87      0.87     10856\n",
            "weighted avg       0.87      0.87      0.87     10856\n",
            "\n"
          ]
        }
      ],
      "source": [
        "estimators= [('DT', DT), ('RF', RF), ('KNN', KNN), ('NB', NB)]\n",
        "votingsoft= VotingClassifier(estimators=estimators, voting=\"soft\")\n",
        "votinghard= VotingClassifier(estimators=estimators, voting=\"hard\")\n",
        "votingsoft.fit(X_train, Y_train)\n",
        "\n",
        "validsoft= votingsoft.predict(X_valid)\n",
        "\n",
        "print(classification_report(validsoft, Y_valid))"
      ]
    },
    {
      "cell_type": "code",
      "execution_count": null,
      "metadata": {
        "colab": {
          "base_uri": "https://localhost:8080/"
        },
        "id": "vuJbztCh7jPE",
        "outputId": "a712a506-29e9-47c0-ffed-47f0a3aa4bc8"
      },
      "outputs": [
        {
          "name": "stdout",
          "output_type": "stream",
          "text": [
            "              precision    recall  f1-score   support\n",
            "\n",
            "           0       0.32      0.41      0.36       942\n",
            "           1       0.87      0.82      0.84      4527\n",
            "\n",
            "    accuracy                           0.75      5469\n",
            "   macro avg       0.59      0.61      0.60      5469\n",
            "weighted avg       0.77      0.75      0.76      5469\n",
            "\n"
          ]
        }
      ],
      "source": [
        "testsoft= votingsoft.predict(X_test)\n",
        "\n",
        "print(classification_report(testsoft, Y_test))"
      ]
    },
    {
      "cell_type": "code",
      "execution_count": null,
      "metadata": {
        "colab": {
          "base_uri": "https://localhost:8080/"
        },
        "id": "NhJAv4-1bLHs",
        "outputId": "913b6af0-f3fa-4b06-a796-6c4c17131deb"
      },
      "outputs": [
        {
          "data": {
            "text/plain": [
              "array([0.86122308, 0.85947938, 0.86008603, 0.86003917, 0.86438733])"
            ]
          },
          "execution_count": 360,
          "metadata": {},
          "output_type": "execute_result"
        }
      ],
      "source": [
        "scoresoft = cross_val_score(votingsoft, X_train, Y_train, cv=K_Fold, scoring='f1')\n",
        "scoresoft"
      ]
    },
    {
      "cell_type": "code",
      "execution_count": null,
      "metadata": {
        "id": "sGmAFFiP8hM4",
        "outputId": "cb4d73fe-b61a-4ead-c118-b23b579cf97d"
      },
      "outputs": [
        {
          "data": {
            "text/plain": [
              "array([0.80106775, 0.80164229, 0.81219822, 0.8029881 , 0.80722738])"
            ]
          },
          "execution_count": 392,
          "metadata": {},
          "output_type": "execute_result"
        }
      ],
      "source": [
        "scorehard = cross_val_score(votinghard, X_train, Y_train, cv=K_Fold, scoring='f1')\n",
        "scorehard"
      ]
    },
    {
      "cell_type": "markdown",
      "metadata": {
        "id": "Pe-Yy8VW7gk4"
      },
      "source": [
        "Dari percobaan diatas, kami menyimpulkan bahwa penggunaan SMOTE belum membuat AI bekerja dengan baik, bahkan dibantu dengan Soft Voting. Sehingga kami akan mencoba untuk melakukan hyperparameter tuning, bagging classifier, dan voting (Hard dan Soft) secara bersamaan, lalu ditambah dengan boosting"
      ]
    },
    {
      "cell_type": "code",
      "execution_count": null,
      "metadata": {
        "id": "etdpRPTLGD8_"
      },
      "outputs": [],
      "source": [
        "from sklearn.ensemble import BaggingClassifier\n",
        "from sklearn.model_selection import GridSearchCV\n",
        "BaggingDT= BaggingClassifier(DT, n_jobs=-1)\n",
        "BaggingRF= BaggingClassifier(RF, n_estimators=5, n_jobs=-1)\n",
        "BaggingKNN= BaggingClassifier(KNN, n_estimators=5, n_jobs=-1)\n",
        "BaggingNB= BaggingClassifier(NB, n_jobs=-1)"
      ]
    },
    {
      "cell_type": "code",
      "execution_count": null,
      "metadata": {
        "id": "XELT8s49IR4y"
      },
      "outputs": [],
      "source": [
        "DTparameters={\n",
        "    'estimator__criterion': ['gini', 'entropy'],\n",
        "    'estimator__max_depth': [None, 3, 5, 7],\n",
        "    'estimator__min_samples_leaf': [1, 2, 4]\n",
        "}\n",
        "KNNparameters = {\n",
        "    'estimator__n_neighbors': [3, 5, 7],\n",
        "    'estimator__weights': ['uniform', 'distance'],\n",
        "}\n",
        "RFparameters = {\n",
        "    'estimator__n_estimators': [10,20],\n",
        "    'estimator__max_depth': [None, 3, 5, 7],\n",
        "    'estimator__min_samples_leaf': [1, 2, 4]\n",
        "}"
      ]
    },
    {
      "cell_type": "code",
      "execution_count": null,
      "metadata": {
        "colab": {
          "base_uri": "https://localhost:8080/"
        },
        "id": "Bhmh22vkJZGJ",
        "outputId": "0bc9d4db-e7e3-45fa-dbdb-da9a97c962a2"
      },
      "outputs": [
        {
          "name": "stdout",
          "output_type": "stream",
          "text": [
            "              precision    recall  f1-score   support\n",
            "\n",
            "           0       0.88      0.89      0.88      5373\n",
            "           1       0.89      0.88      0.88      5483\n",
            "\n",
            "    accuracy                           0.88     10856\n",
            "   macro avg       0.88      0.88      0.88     10856\n",
            "weighted avg       0.88      0.88      0.88     10856\n",
            "\n"
          ]
        }
      ],
      "source": [
        "GridDT = GridSearchCV(BaggingDT, DTparameters, cv=5)\n",
        "GridDT.fit(X_train, Y_train)\n",
        "GridDTvalid= GridDT.predict(X_valid)\n",
        "print(classification_report(GridDTvalid, Y_valid))"
      ]
    },
    {
      "cell_type": "code",
      "execution_count": null,
      "metadata": {
        "colab": {
          "base_uri": "https://localhost:8080/"
        },
        "id": "QyxXmkZ4LYls",
        "outputId": "9a833a86-fe5b-4031-ece9-f5b799f66f8e"
      },
      "outputs": [
        {
          "name": "stdout",
          "output_type": "stream",
          "text": [
            "              precision    recall  f1-score   support\n",
            "\n",
            "           0       0.31      0.42      0.35       877\n",
            "           1       0.88      0.82      0.85      4592\n",
            "\n",
            "    accuracy                           0.75      5469\n",
            "   macro avg       0.59      0.62      0.60      5469\n",
            "weighted avg       0.79      0.75      0.77      5469\n",
            "\n"
          ]
        }
      ],
      "source": [
        "GridDTtest= GridDT.predict(X_test)\n",
        "print(classification_report(GridDTtest, Y_test))"
      ]
    },
    {
      "cell_type": "code",
      "execution_count": null,
      "metadata": {
        "colab": {
          "base_uri": "https://localhost:8080/"
        },
        "id": "AtJqXfWmLSu0",
        "outputId": "b40ae45d-b720-4e74-e73e-c0ddb842d5b5"
      },
      "outputs": [
        {
          "name": "stdout",
          "output_type": "stream",
          "text": [
            "              precision    recall  f1-score   support\n",
            "\n",
            "           0       0.87      0.88      0.87      5369\n",
            "           1       0.88      0.87      0.88      5487\n",
            "\n",
            "    accuracy                           0.87     10856\n",
            "   macro avg       0.87      0.87      0.87     10856\n",
            "weighted avg       0.87      0.87      0.87     10856\n",
            "\n"
          ]
        }
      ],
      "source": [
        "GridRF= GridSearchCV(BaggingRF, RFparameters, cv=5)\n",
        "GridRF.fit(X_train, Y_train)\n",
        "GridRFvalid= GridRF.predict(X_valid)\n",
        "print(classification_report(GridRFvalid, Y_valid))"
      ]
    },
    {
      "cell_type": "code",
      "execution_count": null,
      "metadata": {
        "colab": {
          "base_uri": "https://localhost:8080/"
        },
        "id": "me757zFjKDDw",
        "outputId": "1c2e26ea-d762-4e3b-9850-505c704bc62b"
      },
      "outputs": [
        {
          "name": "stdout",
          "output_type": "stream",
          "text": [
            "              precision    recall  f1-score   support\n",
            "\n",
            "           0       0.30      0.42      0.35       866\n",
            "           1       0.88      0.82      0.85      4603\n",
            "\n",
            "    accuracy                           0.76      5469\n",
            "   macro avg       0.59      0.62      0.60      5469\n",
            "weighted avg       0.79      0.76      0.77      5469\n",
            "\n"
          ]
        }
      ],
      "source": [
        "GridRFtest= GridRF.predict(X_test)\n",
        "print(classification_report(GridRFtest, Y_test))"
      ]
    },
    {
      "cell_type": "code",
      "execution_count": null,
      "metadata": {
        "colab": {
          "base_uri": "https://localhost:8080/"
        },
        "id": "_abea6yNL6Dv",
        "outputId": "07d13bf3-597a-4d17-b4dc-af10d990b5a6"
      },
      "outputs": [
        {
          "name": "stdout",
          "output_type": "stream",
          "text": [
            "              precision    recall  f1-score   support\n",
            "\n",
            "           0       0.75      0.83      0.78      4904\n",
            "           1       0.84      0.77      0.80      5952\n",
            "\n",
            "    accuracy                           0.79     10856\n",
            "   macro avg       0.79      0.80      0.79     10856\n",
            "weighted avg       0.80      0.79      0.79     10856\n",
            "\n"
          ]
        }
      ],
      "source": [
        "GridKNN=GridSearchCV(BaggingKNN, KNNparameters, cv=5)\n",
        "GridKNN.fit(X_train, Y_train)\n",
        "GridKNNvalid= GridKNN.predict(X_valid)\n",
        "print(classification_report(GridKNNvalid, Y_valid))"
      ]
    },
    {
      "cell_type": "code",
      "execution_count": null,
      "metadata": {
        "colab": {
          "base_uri": "https://localhost:8080/"
        },
        "id": "kT7YQSocMBFo",
        "outputId": "6a5ddf2b-f46f-4eb7-d367-4aaf3f952f80"
      },
      "outputs": [
        {
          "name": "stdout",
          "output_type": "stream",
          "text": [
            "              precision    recall  f1-score   support\n",
            "\n",
            "           0       0.35      0.39      0.37      1083\n",
            "           1       0.85      0.82      0.83      4386\n",
            "\n",
            "    accuracy                           0.74      5469\n",
            "   macro avg       0.60      0.61      0.60      5469\n",
            "weighted avg       0.75      0.74      0.74      5469\n",
            "\n"
          ]
        }
      ],
      "source": [
        "GridKNNtest= GridKNN.predict(X_test)\n",
        "print(classification_report(GridKNNtest, Y_test))"
      ]
    },
    {
      "cell_type": "code",
      "execution_count": null,
      "metadata": {
        "id": "b-bEIwEgMFYC"
      },
      "outputs": [],
      "source": [
        "best_DT = GridDT.best_estimator_.estimator_\n",
        "best_RF = GridRF.best_estimator_.estimator_\n",
        "best_KNN = GridKNN.best_estimator_.estimator_\n",
        "\n",
        "bestestimator= [('DT', best_DT),\n",
        "                ('RF', best_RF),\n",
        "                ('KNN', best_KNN),\n",
        "                ('NB', BaggingNB)]\n",
        "# bestestimator = [DT, best_DT, RF, best_RF, KNN, best_KNN, NB, BaggingNB]\n",
        "# bestestimator= list(bestestimator)\n",
        "bestsoftvoting= VotingClassifier(estimators= bestestimator, voting= 'soft')"
      ]
    },
    {
      "cell_type": "code",
      "execution_count": null,
      "metadata": {
        "colab": {
          "base_uri": "https://localhost:8080/",
          "height": 346
        },
        "id": "74XZjOC5Nj3s",
        "outputId": "a75e058f-a88b-478e-d7e8-9cb74790560d"
      },
      "outputs": [
        {
          "name": "stdout",
          "output_type": "stream",
          "text": [
            "              precision    recall  f1-score   support\n",
            "\n",
            "           0       0.88      0.88      0.88      5447\n",
            "           1       0.88      0.88      0.88      5409\n",
            "\n",
            "    accuracy                           0.88     10856\n",
            "   macro avg       0.88      0.88      0.88     10856\n",
            "weighted avg       0.88      0.88      0.88     10856\n",
            "\n"
          ]
        }
      ],
      "source": [
        "bestsoftvoting.fit(X_train, Y_train)\n",
        "softpredvalid= bestsoftvoting.predict(X_valid)\n",
        "print(classification_report(softpredvalid, Y_valid))"
      ]
    },
    {
      "cell_type": "code",
      "execution_count": null,
      "metadata": {
        "id": "2Jn2Z3X3OAGm",
        "outputId": "51ee83cb-1173-4076-d8a3-e5cb77298ad9"
      },
      "outputs": [
        {
          "name": "stdout",
          "output_type": "stream",
          "text": [
            "              precision    recall  f1-score   support\n",
            "\n",
            "           0       0.32      0.41      0.36       921\n",
            "           1       0.87      0.82      0.85      4548\n",
            "\n",
            "    accuracy                           0.75      5469\n",
            "   macro avg       0.60      0.62      0.60      5469\n",
            "weighted avg       0.78      0.75      0.76      5469\n",
            "\n"
          ]
        }
      ],
      "source": [
        "softpredtest= bestsoftvoting.predict(X_test)\n",
        "print(classification_report(softpredtest, Y_test))"
      ]
    },
    {
      "cell_type": "code",
      "execution_count": null,
      "metadata": {
        "id": "5v2jYNd-Ow34",
        "outputId": "f19d5c3a-19eb-420f-e6d0-a028f4df74f5"
      },
      "outputs": [
        {
          "data": {
            "text/plain": [
              "array([0.86495805, 0.86290788, 0.8616117 , 0.86466682, 0.85355166])"
            ]
          },
          "execution_count": 372,
          "metadata": {},
          "output_type": "execute_result"
        }
      ],
      "source": [
        "bestsoftscore= cross_val_score(bestsoftvoting, X_train, Y_train, cv=K_Fold, scoring='f1')\n",
        "bestsoftscore"
      ]
    },
    {
      "cell_type": "code",
      "execution_count": null,
      "metadata": {
        "id": "4q0DvuGmOGGQ",
        "outputId": "f7f79d1e-0cf2-4db8-ef2f-1daf35b39386"
      },
      "outputs": [
        {
          "name": "stdout",
          "output_type": "stream",
          "text": [
            "              precision    recall  f1-score   support\n",
            "\n",
            "           0       0.93      0.81      0.86      6229\n",
            "           1       0.78      0.91      0.84      4627\n",
            "\n",
            "    accuracy                           0.85     10856\n",
            "   macro avg       0.85      0.86      0.85     10856\n",
            "weighted avg       0.86      0.85      0.85     10856\n",
            "\n"
          ]
        }
      ],
      "source": [
        "besthardvoting= VotingClassifier(estimators= bestestimator, voting= 'hard')\n",
        "besthardvoting.fit(X_train, Y_train)\n",
        "hardpredvalid= besthardvoting.predict(X_valid)\n",
        "print(classification_report(hardpredvalid, Y_valid))"
      ]
    },
    {
      "cell_type": "code",
      "execution_count": null,
      "metadata": {
        "id": "bwkbwnHkOGQN",
        "outputId": "b841980a-0e25-4781-ce39-7f8e67c222b7"
      },
      "outputs": [
        {
          "name": "stdout",
          "output_type": "stream",
          "text": [
            "              precision    recall  f1-score   support\n",
            "\n",
            "           0       0.45      0.35      0.39      1514\n",
            "           1       0.77      0.83      0.80      3955\n",
            "\n",
            "    accuracy                           0.70      5469\n",
            "   macro avg       0.61      0.59      0.60      5469\n",
            "weighted avg       0.68      0.70      0.69      5469\n",
            "\n"
          ]
        }
      ],
      "source": [
        "hardpredtest= besthardvoting.predict(X_test)\n",
        "print(classification_report(hardpredtest, Y_test))"
      ]
    },
    {
      "cell_type": "code",
      "execution_count": null,
      "metadata": {
        "id": "lte7xMx2O5Lj",
        "outputId": "fcb8e5e0-763f-4774-8eb8-94480dceca89"
      },
      "outputs": [
        {
          "data": {
            "text/plain": [
              "array([0.81680071, 0.81499243, 0.81667291, 0.8239367 , 0.8187296 ])"
            ]
          },
          "execution_count": 375,
          "metadata": {},
          "output_type": "execute_result"
        }
      ],
      "source": [
        "besthardscore= cross_val_score(besthardvoting, X_train, Y_train, cv=K_Fold, scoring='f1')\n",
        "besthardscore"
      ]
    },
    {
      "cell_type": "markdown",
      "metadata": {
        "id": "nN4V4nIPQYLF"
      },
      "source": [
        "Disini kami akan menggunakan soft voting dibanding hard voting, lalu kami akan melakukan boosting pada AI"
      ]
    },
    {
      "cell_type": "code",
      "execution_count": null,
      "metadata": {
        "id": "pGeG0RFG8hM-",
        "outputId": "52f15d3d-5a9c-400a-8956-dc886e7911a1"
      },
      "outputs": [
        {
          "name": "stdout",
          "output_type": "stream",
          "text": [
            "              precision    recall  f1-score   support\n",
            "\n",
            "           0       0.88      0.88      0.88      5491\n",
            "           1       0.87      0.88      0.88      5365\n",
            "\n",
            "    accuracy                           0.88     10856\n",
            "   macro avg       0.88      0.88      0.88     10856\n",
            "weighted avg       0.88      0.88      0.88     10856\n",
            "\n"
          ]
        }
      ],
      "source": [
        "from sklearn.ensemble import AdaBoostClassifier\n",
        "\n",
        "abc= AdaBoostClassifier(estimator=best_RF, n_estimators=100)\n",
        "abc.fit(X_train, Y_train)\n",
        "abcpredvalid= abc.predict(X_valid)\n",
        "print(classification_report(abcpredvalid, Y_valid))"
      ]
    },
    {
      "cell_type": "code",
      "execution_count": null,
      "metadata": {
        "id": "Th0NFinJ8hM-",
        "outputId": "5dd25dee-74e8-4f1d-e710-1b347bed79db"
      },
      "outputs": [
        {
          "name": "stdout",
          "output_type": "stream",
          "text": [
            "              precision    recall  f1-score   support\n",
            "\n",
            "           0       0.31      0.41      0.35       911\n",
            "           1       0.87      0.82      0.84      4558\n",
            "\n",
            "    accuracy                           0.75      5469\n",
            "   macro avg       0.59      0.61      0.60      5469\n",
            "weighted avg       0.78      0.75      0.76      5469\n",
            "\n"
          ]
        }
      ],
      "source": [
        "abcpredtest= abc.predict(X_test)\n",
        "print(classification_report(abcpredtest, Y_test))"
      ]
    },
    {
      "cell_type": "code",
      "execution_count": null,
      "metadata": {
        "id": "SdNAxfud8hM_",
        "outputId": "079ddd4f-d7df-43ed-c8c3-55d6814ae3e3"
      },
      "outputs": [
        {
          "data": {
            "text/plain": [
              "array([0.8674096 , 0.86761475, 0.86547812, 0.87540304, 0.86889755])"
            ]
          },
          "execution_count": 380,
          "metadata": {},
          "output_type": "execute_result"
        }
      ],
      "source": [
        "abcscore= cross_val_score(abc, X_train, Y_train, cv=K_Fold, scoring='f1')\n",
        "abcscore"
      ]
    },
    {
      "cell_type": "code",
      "execution_count": null,
      "metadata": {
        "id": "5-3iXieU8hM_",
        "outputId": "32f8f980-340d-4e29-dfd7-a2f83163b386"
      },
      "outputs": [
        {
          "name": "stdout",
          "output_type": "stream",
          "text": [
            "              precision    recall  f1-score   support\n",
            "\n",
            "           0       0.88      0.89      0.89      5350\n",
            "           1       0.89      0.88      0.89      5506\n",
            "\n",
            "    accuracy                           0.89     10856\n",
            "   macro avg       0.89      0.89      0.89     10856\n",
            "weighted avg       0.89      0.89      0.89     10856\n",
            "\n"
          ]
        }
      ],
      "source": [
        "import xgboost as xgb\n",
        "xgb= xgb.XGBClassifier(\n",
        "    n_estimators=2000,\n",
        "    max_depth=10,\n",
        "    learning_rate=0.07,\n",
        ")\n",
        "xgb.fit(X_train, Y_train)\n",
        "xgbpredvalid= xgb.predict(X_valid)\n",
        "print(classification_report(xgbpredvalid, Y_valid))"
      ]
    },
    {
      "cell_type": "code",
      "execution_count": null,
      "metadata": {
        "id": "Jl3PwdET8hM_",
        "outputId": "4622b17c-221e-4b0f-9207-00761741aa48"
      },
      "outputs": [
        {
          "name": "stdout",
          "output_type": "stream",
          "text": [
            "              precision    recall  f1-score   support\n",
            "\n",
            "           0       0.29      0.42      0.34       829\n",
            "           1       0.89      0.82      0.85      4640\n",
            "\n",
            "    accuracy                           0.76      5469\n",
            "   macro avg       0.59      0.62      0.60      5469\n",
            "weighted avg       0.80      0.76      0.77      5469\n",
            "\n"
          ]
        }
      ],
      "source": [
        "xgbpredtest= xgb.predict(X_test)\n",
        "print(classification_report(xgbpredtest, Y_test))"
      ]
    },
    {
      "cell_type": "code",
      "execution_count": null,
      "metadata": {
        "id": "_omLgHkS8hNA",
        "outputId": "657f44df-e00f-4123-9bb0-4e8a3702196f"
      },
      "outputs": [
        {
          "data": {
            "text/plain": [
              "array([0.87851544, 0.86918571, 0.87684399, 0.87987988, 0.87251674])"
            ]
          },
          "execution_count": 381,
          "metadata": {},
          "output_type": "execute_result"
        }
      ],
      "source": [
        "xgbscore= cross_val_score(xgb, X_train, Y_train, cv=K_Fold, scoring='f1')\n",
        "xgbscore"
      ]
    },
    {
      "cell_type": "code",
      "execution_count": null,
      "metadata": {
        "id": "3tUw8Za38hNA",
        "outputId": "9f7720bc-91c5-45ca-9967-3e12e27d7ef8"
      },
      "outputs": [
        {
          "data": {
            "image/png": "[encoded data removed]",
            "text/plain": [
              "<Figure size 432x288 with 1 Axes>"
            ]
          },
          "metadata": {
            "needs_background": "light"
          },
          "output_type": "display_data"
        }
      ],
      "source": [
        "import matplotlib.pyplot as plt\n",
        "F1mean=[np.mean(softscore), np.mean(hardscore), np.mean(bestsoftscore),\n",
        "np.mean(besthardscore), np.mean(abcscore), np.mean(xgbscore)]\n",
        "label=['Soft After Tuning', 'Hard After Tuning', 'ADABoost(Soft)', 'XGBoost(Soft)']\n",
        "plt.bar(label, F1mean)\n",
        "plt.xlabel('Methods')\n",
        "plt.ylabel('F1score')\n",
        "plt.title('F1 score comparison after tuning')\n",
        "for i, v in enumerate(F1mean):\n",
        "    plt.text(i, v, str(round(v, 2)), ha='center', va='bottom')\n",
        "\n",
        "plt.show()"
      ]
    },
    {
      "cell_type": "code",
      "execution_count": null,
      "metadata": {
        "id": "K8LAEYxF8hNA",
        "outputId": "452bb13e-592c-4822-9f73-170a80fe42d5"
      },
      "outputs": [
        {
          "data": {
            "image/png": "[encoded data removed]",
            "text/plain": [
              "<Figure size 432x288 with 1 Axes>"
            ]
          },
          "metadata": {
            "needs_background": "light"
          },
          "output_type": "display_data"
        }
      ],
      "source": [
        "beforemean=[np.mean(scoresoft), np.mean(scorehard)]\n",
        "beforelabel=['Soft Voting', 'Hard Voting']\n",
        "\n",
        "plt.bar(beforelabel, beforemean)\n",
        "plt.xlabel('Methods')\n",
        "plt.ylabel('F1score')\n",
        "plt.title('F1 score comparison before tuning')\n",
        "for i, v in enumerate(beforemean):\n",
        "    plt.text(i, v, str(round(v, 2)), ha='center', va='bottom')\n",
        "\n",
        "plt.show()"
      ]
    }
  ],
  "metadata": {
    "colab": {
      "gpuType": "T4",
      "provenance": []
    },
    "kernelspec": {
      "display_name": "Python 3",
      "name": "python3"
    },
    "language_info": {
      "codemirror_mode": {
        "name": "ipython",
        "version": 3
      },
      "file_extension": ".py",
      "mimetype": "text/x-python",
      "name": "python",
      "nbconvert_exporter": "python",
      "pygments_lexer": "ipython3",
      "version": "3.8.8"
    }
  },
  "nbformat": 4,
  "nbformat_minor": 0
}